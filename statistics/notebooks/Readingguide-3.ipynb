{
 "cells": [
  {
   "cell_type": "markdown",
   "metadata": {},
   "source": [
    "# Preparation"
   ]
  },
  {
   "cell_type": "code",
   "execution_count": 1,
   "metadata": {},
   "outputs": [
    {
     "name": "stdout",
     "output_type": "stream",
     "text": [
      "Requirement already satisfied: tqdm in /opt/conda/lib/python3.6/site-packages\n",
      "\u001b[33mYou are using pip version 9.0.3, however version 19.0.2 is available.\n",
      "You should consider upgrading via the 'pip install --upgrade pip' command.\u001b[0m\n"
     ]
    }
   ],
   "source": [
    "import os\n",
    "os.chdir(\"/home/jovyan/work\")\n",
    "!pip install tqdm"
   ]
  },
  {
   "cell_type": "markdown",
   "metadata": {},
   "source": [
    "# Control Task 3.2\n",
    "Provide the given plots of a Beta Distribution"
   ]
  },
  {
   "cell_type": "code",
   "execution_count": null,
   "metadata": {},
   "outputs": [],
   "source": [
    "# %load src/3-02-beta-pdfs.py\n",
    "# Imports\n",
    "import os\n",
    "import matplotlib.pyplot as plt\n",
    "import numpy as np\n",
    "from scipy.stats import beta\n",
    "\n",
    "# Config\n",
    "os.chdir(\"/home/jovyan/work\")\n",
    "%config InlineBackend.figure_format = 'retina'\n",
    "%matplotlib inline\n",
    "plt.rcParams[\"figure.figsize\"] = (10, 5)\n",
    "\n",
    "# Prepare Distributions\n",
    "alphas = [4, 12, 40, 8, 32, 80]\n",
    "betas = [6, 18, 60, 2, 8, 20]\n",
    "\n",
    "# Sample\n",
    "x = np.linspace(0, 1, 200)\n",
    "\n",
    "for a, b in zip(alphas, betas):\n",
    "    plt.plot(\n",
    "        x, \n",
    "        beta(a, b).pdf(x), \n",
    "        linewidth=3,\n",
    "        label=\"a = {}, b = {}\".format(a ,b)\n",
    "    )\n",
    "plt.legend(loc=0)\n",
    "plt.title(\"Probability Density for different Beta Ditributions\")\n",
    "plt.savefig(\"./results/3-02-beta-pdfs.png\")"
   ]
  },
  {
   "cell_type": "markdown",
   "metadata": {},
   "source": [
    "# Control Task 3.5"
   ]
  },
  {
   "cell_type": "code",
   "execution_count": null,
   "metadata": {},
   "outputs": [],
   "source": [
    "# %load src/3-00-mcmc.py\n",
    "import numpy as np\n",
    "from scipy.stats import norm\n",
    "from tqdm import tqdm\n",
    "\n",
    "def mcmc(data, dist, target, init, proposal_width, params_prior, params_const, n_iter):\n",
    "    \"\"\"MCMC Metropolis Sampling\n",
    "    \n",
    "    Parameter\n",
    "    ---------\n",
    "    data: 1-d array,\n",
    "        observerd data\n",
    "    dist: scipy.stats distribution,\n",
    "        distribution that underlies the sampling\n",
    "    target: str,\n",
    "        target param to be sampled\n",
    "    init: float,\n",
    "        initial value for the target parameter\n",
    "    proposal_width: float,\n",
    "        step-width of sampling\n",
    "    params_prior: dict,\n",
    "        priors of the distribution\n",
    "    params_const: dict,\n",
    "        constant parameter of the distribution,\n",
    "    n_iter: int,\n",
    "        number of samplings\n",
    "        \n",
    "    Return\n",
    "    ------\n",
    "    trace: 1-d array,\n",
    "        trace of the sampling\n",
    "    \"\"\"\n",
    "    params_current = params_const.copy() # defensive copy (!)\n",
    "    params_current.update({target: init})\n",
    "    params_proposal = params_const.copy() # defensive copy (!)\n",
    "    trace = [params_current[target]]\n",
    "    for _ in tqdm(range(n_iter)):\n",
    "\n",
    "        # proposal\n",
    "        proposal = norm(params_current[target], proposal_width).rvs()\n",
    "        params_proposal.update({target: proposal})\n",
    "        \n",
    "        # likelihoods\n",
    "        l_current = dist(**params_current).pdf(data).prod()\n",
    "        l_proposal = dist(**params_proposal).pdf(data).prod()\n",
    "        \n",
    "        # priors\n",
    "        pr_current = dist(**params_prior).pdf(params_current[target])\n",
    "        pr_proposal = dist(**params_prior).pdf(params_proposal[target])\n",
    "        \n",
    "        # probabilities\n",
    "        p_current = l_current * pr_current\n",
    "        p_proposal = l_proposal * pr_proposal\n",
    "        \n",
    "        # switch (?)\n",
    "        accept = np.random.rand() < (p_proposal / p_current)\n",
    "        \n",
    "        if accept:\n",
    "            params_current = params_proposal.copy() # defensive copy (!)\n",
    "        trace.append(params_current[target])\n",
    "    return trace"
   ]
  },
  {
   "cell_type": "code",
   "execution_count": null,
   "metadata": {},
   "outputs": [],
   "source": [
    "# %load src/3-05-mcmc-sampling.py\n",
    "# Imports\n",
    "import os\n",
    "import matplotlib.pyplot as plt\n",
    "import seaborn as sns\n",
    "from scipy.stats import norm\n",
    "\n",
    "# Config\n",
    "os.chdir(\"/home/jovyan/work\")\n",
    "%config InlineBackend.figure_format = 'retina'\n",
    "%matplotlib inline\n",
    "plt.rcParams[\"figure.figsize\"] = (10, 5)\n",
    "\n",
    "# Generate data\n",
    "data = norm(450, 50).rvs(25)\n",
    "\n",
    "# Sample\n",
    "trace = mcmc(\n",
    "    data=data, \n",
    "    dist=norm, \n",
    "    target=\"loc\", \n",
    "    init=500, \n",
    "    proposal_width=100, \n",
    "    params_prior={\"loc\": 500, \"scale\": 70},\n",
    "    params_const={\"scale\": 50},\n",
    "    n_iter=10000\n",
    ")\n",
    "\n",
    "# Plot\n",
    "fig, ax = plt.subplots(nrows=1, ncols=2)\n",
    "ax[0].plot(range(len(trace)), trace)\n",
    "sns.distplot(trace, ax=ax[1])\n",
    "plt.savefig(\"./results/3-05-mcmc-results.png\")"
   ]
  }
 ],
 "metadata": {
  "kernelspec": {
   "display_name": "Python 3",
   "language": "python",
   "name": "python3"
  },
  "language_info": {
   "codemirror_mode": {
    "name": "ipython",
    "version": 3
   },
   "file_extension": ".py",
   "mimetype": "text/x-python",
   "name": "python",
   "nbconvert_exporter": "python",
   "pygments_lexer": "ipython3",
   "version": "3.6.5"
  }
 },
 "nbformat": 4,
 "nbformat_minor": 2
}
